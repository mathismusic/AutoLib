{
 "cells": [
  {
   "cell_type": "code",
   "execution_count": 171,
   "metadata": {},
   "outputs": [],
   "source": [
    "# writing a cfg\n",
    "terminals = list(map(lambda x: str(x), range(2)))\n",
    "terminals = ['(', ')']\n",
    "nonterminals = ['A', 'B', 'C', 'D']"
   ]
  },
  {
   "cell_type": "code",
   "execution_count": 172,
   "metadata": {},
   "outputs": [
    {
     "data": {
      "text/plain": [
       "(['(', ')'], ['A', 'B', 'C', 'D'])"
      ]
     },
     "execution_count": 172,
     "metadata": {},
     "output_type": "execute_result"
    }
   ],
   "source": [
    "terminals, nonterminals"
   ]
  },
  {
   "cell_type": "code",
   "execution_count": 173,
   "metadata": {},
   "outputs": [
    {
     "name": "stdout",
     "output_type": "stream",
     "text": [
      "A: {'BD', 'AA', 'BC'}\n",
      "B: {'('}\n",
      "C: {')'}\n",
      "D: {'AC'}\n"
     ]
    }
   ],
   "source": [
    "productions = {}\n",
    "productions['A'] = set(['AA', 'BD', 'BC'])\n",
    "productions['B'] = set(['('])\n",
    "productions['C'] = set([')'])\n",
    "productions['D'] = set(['AC'])\n",
    "print('\\n'.join(f'{k}: {v}' for k,v in productions.items()))"
   ]
  },
  {
   "cell_type": "code",
   "execution_count": 174,
   "metadata": {},
   "outputs": [
    {
     "name": "stdout",
     "output_type": "stream",
     "text": [
      "S: {'BD', 'BA', 'AC', 'AB', 'SS'}\n",
      "A: {'a'}\n",
      "B: {'b'}\n",
      "C: {'SB'}\n",
      "D: {'SA'}\n"
     ]
    }
   ],
   "source": [
    "terminals = ['a', 'b']\n",
    "nonterminals = ['S', 'A', 'B', 'C', 'D']\n",
    "productions = {}\n",
    "productions['S'] = set(['AB', 'BA', 'SS', 'AC', 'BD'])\n",
    "productions['A'] = set(['a'])\n",
    "productions['B'] = set(['b'])\n",
    "productions['C'] = set(['SB'])\n",
    "productions['D'] = set(['SA'])\n",
    "print('\\n'.join(f'{k}: {v}' for k,v in productions.items()))"
   ]
  },
  {
   "cell_type": "code",
   "execution_count": 175,
   "metadata": {},
   "outputs": [],
   "source": [
    "s = 'aabbab'\n",
    "n = len(s)+1"
   ]
  },
  {
   "cell_type": "code",
   "execution_count": 176,
   "metadata": {},
   "outputs": [
    {
     "name": "stdout",
     "output_type": "stream",
     "text": [
      "(0, 1): set()\n",
      "(1, 2): set()\n",
      "(2, 3): set()\n",
      "(3, 4): set()\n",
      "(4, 5): set()\n",
      "(5, 6): set()\n",
      "(0, 2): set()\n",
      "(1, 3): set()\n",
      "(2, 4): set()\n",
      "(3, 5): set()\n",
      "(4, 6): set()\n",
      "(0, 3): set()\n",
      "(1, 4): set()\n",
      "(2, 5): set()\n",
      "(3, 6): set()\n",
      "(0, 4): set()\n",
      "(1, 5): set()\n",
      "(2, 6): set()\n",
      "(0, 5): set()\n",
      "(1, 6): set()\n",
      "(0, 6): set()\n"
     ]
    }
   ],
   "source": [
    "dp = {(j,i):set() for i in range(n) for j in range(i)}\n",
    "def pretty_print(dp):\n",
    "    print('\\n'.join(f'({i}, {i+j}): {dp[i,i+j]}' for j in range(1,n) for i in range(n-j)))\n",
    "pretty_print(dp)"
   ]
  },
  {
   "cell_type": "code",
   "execution_count": 177,
   "metadata": {},
   "outputs": [
    {
     "name": "stdout",
     "output_type": "stream",
     "text": [
      "(0, 1): {'A'}\n",
      "(1, 2): {'A'}\n",
      "(2, 3): {'B'}\n",
      "(3, 4): {'B'}\n",
      "(4, 5): {'A'}\n",
      "(5, 6): {'B'}\n",
      "(0, 2): set()\n",
      "(1, 3): set()\n",
      "(2, 4): set()\n",
      "(3, 5): set()\n",
      "(4, 6): set()\n",
      "(0, 3): set()\n",
      "(1, 4): set()\n",
      "(2, 5): set()\n",
      "(3, 6): set()\n",
      "(0, 4): set()\n",
      "(1, 5): set()\n",
      "(2, 6): set()\n",
      "(0, 5): set()\n",
      "(1, 6): set()\n",
      "(0, 6): set()\n"
     ]
    }
   ],
   "source": [
    "for N in nonterminals:\n",
    "    for prod in productions[N]:\n",
    "        if len(prod) > 1: continue\n",
    "        for i in range(n-1):\n",
    "            if prod == s[i:i+1]:\n",
    "                dp[i,i+1].add(N)\n",
    "pretty_print(dp)"
   ]
  },
  {
   "cell_type": "code",
   "execution_count": 178,
   "metadata": {},
   "outputs": [
    {
     "name": "stdout",
     "output_type": "stream",
     "text": [
      "(0, 1): {'A'}\n",
      "(1, 2): {'A'}\n",
      "(2, 3): {'B'}\n",
      "(3, 4): {'B'}\n",
      "(4, 5): {'A'}\n",
      "(5, 6): {'B'}\n",
      "(0, 2): set()\n",
      "(1, 3): {'S'}\n",
      "(2, 4): set()\n",
      "(3, 5): {'S'}\n",
      "(4, 6): {'S'}\n",
      "(0, 3): set()\n",
      "(1, 4): set()\n",
      "(2, 5): set()\n",
      "(3, 6): set()\n",
      "(0, 4): set()\n",
      "(1, 5): set()\n",
      "(2, 6): set()\n",
      "(0, 5): set()\n",
      "(1, 6): set()\n",
      "(0, 6): set()\n"
     ]
    }
   ],
   "source": [
    "for N in nonterminals:\n",
    "    for prod in productions[N]:\n",
    "        if len(prod) == 1: continue\n",
    "        for i in range(n-2):\n",
    "            A, B = prod[0], prod[1]\n",
    "            ok = False\n",
    "            for k in range(i+1, i+2):\n",
    "                if A in dp[i,k] and B in dp[k,i+2]:\n",
    "                    ok = True\n",
    "                    break\n",
    "            if ok: dp[i,i+2].add(N)\n",
    "pretty_print(dp)"
   ]
  },
  {
   "cell_type": "code",
   "execution_count": 179,
   "metadata": {},
   "outputs": [
    {
     "name": "stdout",
     "output_type": "stream",
     "text": [
      "(0, 1): {'A'}\n",
      "(1, 2): {'A'}\n",
      "(2, 3): {'B'}\n",
      "(3, 4): {'B'}\n",
      "(4, 5): {'A'}\n",
      "(5, 6): {'B'}\n",
      "(0, 2): set()\n",
      "(1, 3): {'S'}\n",
      "(2, 4): set()\n",
      "(3, 5): {'S'}\n",
      "(4, 6): {'S'}\n",
      "(0, 3): set()\n",
      "(1, 4): {'C'}\n",
      "(2, 5): set()\n",
      "(3, 6): {'C'}\n",
      "(0, 4): set()\n",
      "(1, 5): set()\n",
      "(2, 6): set()\n",
      "(0, 5): set()\n",
      "(1, 6): set()\n",
      "(0, 6): set()\n",
      "\n",
      "(0, 1): {'A'}\n",
      "(1, 2): {'A'}\n",
      "(2, 3): {'B'}\n",
      "(3, 4): {'B'}\n",
      "(4, 5): {'A'}\n",
      "(5, 6): {'B'}\n",
      "(0, 2): set()\n",
      "(1, 3): {'S'}\n",
      "(2, 4): set()\n",
      "(3, 5): {'S'}\n",
      "(4, 6): {'S'}\n",
      "(0, 3): set()\n",
      "(1, 4): {'C'}\n",
      "(2, 5): set()\n",
      "(3, 6): {'C'}\n",
      "(0, 4): {'S'}\n",
      "(1, 5): {'S'}\n",
      "(2, 6): set()\n",
      "(0, 5): set()\n",
      "(1, 6): set()\n",
      "(0, 6): set()\n",
      "\n",
      "(0, 1): {'A'}\n",
      "(1, 2): {'A'}\n",
      "(2, 3): {'B'}\n",
      "(3, 4): {'B'}\n",
      "(4, 5): {'A'}\n",
      "(5, 6): {'B'}\n",
      "(0, 2): set()\n",
      "(1, 3): {'S'}\n",
      "(2, 4): set()\n",
      "(3, 5): {'S'}\n",
      "(4, 6): {'S'}\n",
      "(0, 3): set()\n",
      "(1, 4): {'C'}\n",
      "(2, 5): set()\n",
      "(3, 6): {'C'}\n",
      "(0, 4): {'S'}\n",
      "(1, 5): {'S'}\n",
      "(2, 6): set()\n",
      "(0, 5): {'D'}\n",
      "(1, 6): {'C'}\n",
      "(0, 6): set()\n",
      "\n",
      "(0, 1): {'A'}\n",
      "(1, 2): {'A'}\n",
      "(2, 3): {'B'}\n",
      "(3, 4): {'B'}\n",
      "(4, 5): {'A'}\n",
      "(5, 6): {'B'}\n",
      "(0, 2): set()\n",
      "(1, 3): {'S'}\n",
      "(2, 4): set()\n",
      "(3, 5): {'S'}\n",
      "(4, 6): {'S'}\n",
      "(0, 3): set()\n",
      "(1, 4): {'C'}\n",
      "(2, 5): set()\n",
      "(3, 6): {'C'}\n",
      "(0, 4): {'S'}\n",
      "(1, 5): {'S'}\n",
      "(2, 6): set()\n",
      "(0, 5): {'D'}\n",
      "(1, 6): {'C'}\n",
      "(0, 6): {'S'}\n",
      "\n"
     ]
    }
   ],
   "source": [
    "for j in range(3,n):\n",
    "    for N in nonterminals:\n",
    "        for prod in productions[N]:\n",
    "            if len(prod) == 1: continue\n",
    "            for i in range(n-j):\n",
    "                A, B = prod[0], prod[1]\n",
    "                ok = False\n",
    "                for k in range(i+1, i+j):\n",
    "                    if A in dp[i,k] and B in dp[k,i+j]:\n",
    "                        ok = True\n",
    "                        break\n",
    "                if ok: dp[i,i+j].add(N)\n",
    "    pretty_print(dp)\n",
    "    print()"
   ]
  },
  {
   "cell_type": "code",
   "execution_count": 180,
   "metadata": {},
   "outputs": [
    {
     "name": "stdout",
     "output_type": "stream",
     "text": [
      "True\n"
     ]
    }
   ],
   "source": [
    "print('S' in dp[0,n-1])"
   ]
  },
  {
   "cell_type": "code",
   "execution_count": 181,
   "metadata": {},
   "outputs": [],
   "source": [
    "def cyk(NT, T, P, S, x):\n",
    "    n = len(x) + 1\n",
    "    dp = {(j,i):set() for i in range(n) for j in range(i)}\n",
    "    # basecase\n",
    "    for N in nonterminals:\n",
    "        for prod in productions[N]:\n",
    "            if len(prod) > 1: continue\n",
    "            for i in range(n-1):\n",
    "                if prod == x[i:i+1]:\n",
    "                    dp[i,i+1].add(N)\n",
    "    # recursion\n",
    "    for j in range(2,n):\n",
    "        for N in nonterminals:\n",
    "            for prod in productions[N]:\n",
    "                if len(prod) == 1: continue\n",
    "                for i in range(n-j):\n",
    "                    A, B = prod[0], prod[1]\n",
    "                    ok = False\n",
    "                    for k in range(i+1, i+j):\n",
    "                        if A in dp[i,k] and B in dp[k,i+j]:\n",
    "                            ok = True\n",
    "                            break\n",
    "                    if ok: dp[i,i+j].add(N)\n",
    "    return S in dp[0,n-1], dp"
   ]
  },
  {
   "cell_type": "code",
   "execution_count": 182,
   "metadata": {},
   "outputs": [],
   "source": [
    "ans, dp = cyk(nonterminals, terminals, productions, 'S', s)"
   ]
  },
  {
   "cell_type": "code",
   "execution_count": 183,
   "metadata": {},
   "outputs": [
    {
     "data": {
      "text/plain": [
       "True"
      ]
     },
     "execution_count": 183,
     "metadata": {},
     "output_type": "execute_result"
    }
   ],
   "source": [
    "ans"
   ]
  },
  {
   "cell_type": "code",
   "execution_count": 184,
   "metadata": {},
   "outputs": [
    {
     "name": "stdout",
     "output_type": "stream",
     "text": [
      "(0, 1): {'A'}\n",
      "(1, 2): {'A'}\n",
      "(2, 3): {'B'}\n",
      "(3, 4): {'B'}\n",
      "(4, 5): {'A'}\n",
      "(5, 6): {'B'}\n",
      "(0, 2): set()\n",
      "(1, 3): {'S'}\n",
      "(2, 4): set()\n",
      "(3, 5): {'S'}\n",
      "(4, 6): {'S'}\n",
      "(0, 3): set()\n",
      "(1, 4): {'C'}\n",
      "(2, 5): set()\n",
      "(3, 6): {'C'}\n",
      "(0, 4): {'S'}\n",
      "(1, 5): {'S'}\n",
      "(2, 6): set()\n",
      "(0, 5): {'D'}\n",
      "(1, 6): {'C'}\n",
      "(0, 6): {'S'}\n"
     ]
    }
   ],
   "source": [
    "pretty_print(dp)"
   ]
  },
  {
   "cell_type": "code",
   "execution_count": 185,
   "metadata": {},
   "outputs": [],
   "source": [
    "def cyk2(NT, T, P, S, x):\n",
    "    n = len(x) + 1\n",
    "    dp = {(j,i,N):None for i in range(n) for j in range(i) for N in NT}\n",
    "    # basecase\n",
    "    for N in nonterminals:\n",
    "        for prod in productions[N]:\n",
    "            if len(prod) > 1: continue\n",
    "            for i in range(n-1):\n",
    "                if prod == x[i:i+1]:\n",
    "                    dp[i,i+1,N] = (i+1, x[i])\n",
    "    # recursion\n",
    "    for j in range(2,n):\n",
    "        for N in nonterminals:\n",
    "            for prod in productions[N]:\n",
    "                if len(prod) == 1: continue\n",
    "                for i in range(n-j):\n",
    "                    A, B = prod[0], prod[1]\n",
    "                    ok = None\n",
    "                    for k in range(i+1, i+j):\n",
    "                        if dp[i,k,A] and dp[k,i+j,B]:\n",
    "                            ok = (k,A,B)\n",
    "                            break\n",
    "                    if ok: dp[i,i+j,N] = ok\n",
    "    return bool(dp[0,n-1,S]), dp"
   ]
  },
  {
   "cell_type": "code",
   "execution_count": 186,
   "metadata": {},
   "outputs": [
    {
     "name": "stdout",
     "output_type": "stream",
     "text": [
      "True\n"
     ]
    }
   ],
   "source": [
    "ans, dp = cyk2(nonterminals, terminals, productions, 'S', s)\n",
    "print(ans)\n",
    "# pretty_print(dp)\n",
    "# dp"
   ]
  },
  {
   "cell_type": "code",
   "execution_count": 187,
   "metadata": {},
   "outputs": [],
   "source": [
    "class tree:\n",
    "    def __init__(self, data, l, r) -> None:\n",
    "        self.data = data\n",
    "        self.l = l\n",
    "        self.r = r\n",
    "    def pretty_print(self):\n",
    "        import networkx as nx\n",
    "        g = nx.DiGraph()\n",
    "        if self.l: \n",
    "            gl = self.l.pretty_print()\n",
    "            g.add_nodes_from(gl.nodes)\n",
    "            g.add_edges_from(gl.edges)\n",
    "        if self.r: \n",
    "            gr = self.r.pretty_print()\n",
    "            g.add_nodes_from(gr.nodes)\n",
    "            g.add_edges_from(gr.edges)\n",
    "        g.add_node(self.data)\n",
    "        if self.l: g.add_edge(self, self.l)\n",
    "        if self.r: g.add_edge(self, self.r)\n",
    "        return g    "
   ]
  },
  {
   "cell_type": "code",
   "execution_count": 188,
   "metadata": {},
   "outputs": [],
   "source": [
    "def compute_derivation(N, dp, i, j):\n",
    "    if j-i <= 1:\n",
    "        assert j-i == 1\n",
    "        k = dp[i,j,N]\n",
    "        assert k, len(k) == 2\n",
    "        k, t = k\n",
    "        return tree(N, tree(t, None, None), None)\n",
    "    \n",
    "    k = dp[i,j,N]; assert k, len(k) == 3\n",
    "    k, A, B = k\n",
    "    return tree(N, compute_derivation(A, dp, i, k), compute_derivation(B, dp, k, j))"
   ]
  },
  {
   "cell_type": "code",
   "execution_count": 189,
   "metadata": {},
   "outputs": [],
   "source": [
    "t = compute_derivation('S', dp, 0, len(s))"
   ]
  },
  {
   "cell_type": "code",
   "execution_count": 190,
   "metadata": {},
   "outputs": [
    {
     "data": {
      "text/plain": [
       "('S', 'S', 'S')"
      ]
     },
     "execution_count": 190,
     "metadata": {},
     "output_type": "execute_result"
    }
   ],
   "source": [
    "t.data, t.l.data, t.r.data"
   ]
  },
  {
   "cell_type": "code",
   "execution_count": 191,
   "metadata": {},
   "outputs": [
    {
     "data": {
      "text/plain": [
       "('S', 'A', 'C')"
      ]
     },
     "execution_count": 191,
     "metadata": {},
     "output_type": "execute_result"
    }
   ],
   "source": [
    "rt = t.l\n",
    "rt.data, rt.l.data, rt.r.data"
   ]
  },
  {
   "cell_type": "code",
   "execution_count": 192,
   "metadata": {},
   "outputs": [
    {
     "data": {
      "text/plain": [
       "<__main__.tree at 0x111b25030>"
      ]
     },
     "execution_count": 192,
     "metadata": {},
     "output_type": "execute_result"
    }
   ],
   "source": [
    "rt = t.l.r\n",
    "rt.l.r"
   ]
  },
  {
   "cell_type": "code",
   "execution_count": 193,
   "metadata": {},
   "outputs": [
    {
     "data": {
      "text/plain": [
       "('A', <__main__.tree at 0x111b25270>, None)"
      ]
     },
     "execution_count": 193,
     "metadata": {},
     "output_type": "execute_result"
    }
   ],
   "source": [
    "rt = t.l.l\n",
    "rt.data, rt.l, rt.r\n",
    "# rt.data, rt.l.data"
   ]
  },
  {
   "cell_type": "code",
   "execution_count": 195,
   "metadata": {},
   "outputs": [
    {
     "data": {
      "image/png": "[encoded data removed]",
      "text/plain": [
       "<Figure size 640x480 with 1 Axes>"
      ]
     },
     "metadata": {},
     "output_type": "display_data"
    }
   ],
   "source": [
    "g = t.pretty_print()\n",
    "import networkx as nx\n",
    "nx.draw(g)"
   ]
  },
  {
   "cell_type": "code",
   "execution_count": null,
   "metadata": {},
   "outputs": [],
   "source": []
  },
  {
   "cell_type": "code",
   "execution_count": null,
   "metadata": {},
   "outputs": [],
   "source": []
  }
 ],
 "metadata": {
  "kernelspec": {
   "display_name": "Python 3",
   "language": "python",
   "name": "python3"
  },
  "language_info": {
   "codemirror_mode": {
    "name": "ipython",
    "version": 3
   },
   "file_extension": ".py",
   "mimetype": "text/x-python",
   "name": "python",
   "nbconvert_exporter": "python",
   "pygments_lexer": "ipython3",
   "version": "3.10.12"
  }
 },
 "nbformat": 4,
 "nbformat_minor": 2
}
